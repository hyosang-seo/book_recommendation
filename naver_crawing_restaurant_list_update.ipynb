{
  "nbformat": 4,
  "nbformat_minor": 0,
  "metadata": {
    "colab": {
      "name": "naver_crawing_restaurant_list_update.ipynb",
      "provenance": [],
      "authorship_tag": "ABX9TyOAlGtpX2xemicF/BU+k2uA",
      "include_colab_link": true
    },
    "kernelspec": {
      "name": "python3",
      "display_name": "Python 3"
    }
  },
  "cells": [
    {
      "cell_type": "markdown",
      "metadata": {
        "id": "view-in-github",
        "colab_type": "text"
      },
      "source": [
        "<a href=\"https://colab.research.google.com/github/hyosang-seo/book_recommendation/blob/master/naver_crawing_restaurant_list_update.ipynb\" target=\"_parent\"><img src=\"https://colab.research.google.com/assets/colab-badge.svg\" alt=\"Open In Colab\"/></a>"
      ]
    },
    {
      "cell_type": "code",
      "metadata": {
        "id": "zLTTa_mPMevr",
        "colab_type": "code",
        "colab": {}
      },
      "source": [
        "import requests\n",
        "from bs4 import BeautifulSoup\n",
        "import csv\n",
        "\n",
        "url = 'https://search.naver.com/search.naver'\n",
        "\n",
        "\n",
        "f = open('list.csv','r')\n",
        "data = f.readlines()\n",
        "\n",
        "for i in range(0,len(data)):\n",
        "    params = {\n",
        "    'query': data[i]\n",
        "    }\n",
        "\n",
        "    response = requests.get(url, params=params)\n",
        "    html = response.text\n",
        "\n",
        "    # 뷰티풀소프의 인자값 지정\n",
        "    soup = BeautifulSoup(html, 'html.parser')\n",
        "\n",
        "    # 쪼개기\n",
        "    title_list = soup.select('div.txt')\n",
        "\n",
        "    result = []\n",
        "    for tag in title_list:\n",
        "        result +=tag\n",
        "    print(result)"
      ],
      "execution_count": 0,
      "outputs": []
    }
  ]
}